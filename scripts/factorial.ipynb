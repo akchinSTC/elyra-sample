{
 "cells": [
  {
   "cell_type": "code",
   "execution_count": 1,
   "id": "f588c41c-6c2b-498d-b6f2-bb5dcea8f915",
   "metadata": {
    "papermill": {
     "duration": 0.013212,
     "end_time": "2021-06-16T07:12:02.365601",
     "exception": false,
     "start_time": "2021-06-16T07:12:02.352389",
     "status": "completed"
    },
    "tags": []
   },
   "outputs": [
    {
     "name": "stdout",
     "output_type": "stream",
     "text": [
      "The factorial of 7 is 5040\n"
     ]
    }
   ],
   "source": [
    "import os\n",
    "\n",
    "# change the value for a different result\n",
    "num = os.getenv('FACTORIAL_NUMBER', 7)\n",
    "\n",
    "factorial = 1\n",
    "\n",
    "# check if the number is negative, positive or zero\n",
    "if num < 0:\n",
    "    raise RuntimeError('Sorry, factorial does not exist for negative numbers')\n",
    "elif num == 0:\n",
    "    print('The factorial of 0 is 1')\n",
    "else:\n",
    "    for i in range(1, num + 1):\n",
    "        factorial = factorial * i\n",
    "    print(f'The factorial of {num} is {factorial}')"
   ]
  },
  {
   "cell_type": "code",
   "execution_count": null,
   "id": "c88e091b-9133-4edd-8df7-147ef7d139be",
   "metadata": {
    "papermill": {
     "duration": 0.002662,
     "end_time": "2021-06-16T07:12:02.371176",
     "exception": false,
     "start_time": "2021-06-16T07:12:02.368514",
     "status": "completed"
    },
    "tags": []
   },
   "outputs": [],
   "source": []
  }
 ],
 "metadata": {
  "kernelspec": {
   "display_name": "Python 3 (ipykernel)",
   "language": "python",
   "name": "python3"
  },
  "language_info": {
   "codemirror_mode": {
    "name": "ipython",
    "version": 3
   },
   "file_extension": ".py",
   "mimetype": "text/x-python",
   "name": "python",
   "nbconvert_exporter": "python",
   "pygments_lexer": "ipython3",
   "version": "3.8.2"
  },
  "papermill": {
   "default_parameters": {},
   "duration": 1.230583,
   "end_time": "2021-06-16T07:12:02.585244",
   "environment_variables": {},
   "exception": null,
   "input_path": "/Users/lresende/opensource/jupyter-notebooks/sample-python/factorial.ipynb",
   "output_path": "/Users/lresende/opensource/jupyter-notebooks/sample-python/factorial.ipynb",
   "parameters": {},
   "start_time": "2021-06-16T07:12:01.354661",
   "version": "2.3.3"
  }
 },
 "nbformat": 4,
 "nbformat_minor": 5
}
